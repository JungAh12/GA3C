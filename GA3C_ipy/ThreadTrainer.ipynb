{
 "cells": [
  {
   "cell_type": "code",
   "execution_count": 1,
   "metadata": {},
   "outputs": [],
   "source": [
    "from threading import Thread\n",
    "import numpy as np\n",
    "from Config import Config"
   ]
  },
  {
   "cell_type": "code",
   "execution_count": 2,
   "metadata": {},
   "outputs": [],
   "source": [
    "class ThreadTrainer(Thread):\n",
    "    def __init__(self, server, id):\n",
    "        super(ThreadTrainer, self).__init__()\n",
    "        self.setDaemon(True)\n",
    "        \n",
    "        self.id = id\n",
    "        self.sever = server\n",
    "        self.exit_flag = False\n",
    "    \n",
    "    def run(self):\n",
    "        while not self.exit_flag:\n",
    "            batch_size = 0\n",
    "            while batch_size <= Config.TRAINING_MIN_BATCH_SIZE:\n",
    "                x_, r_, a_ = self.server.training_q.get()\n",
    "                if batch_size == 0:\n",
    "                    x__ = x_; r__ = r_; a__ = a_\n",
    "                else:\n",
    "                    x__ = np.concatenate((x__, x_))\n",
    "                    r__ = np.concatenate((r__, r_))\n",
    "                    a__ = np.concatenate((a__, a_))\n",
    "                batch_size+=x_.shape[0]\n",
    "                \n",
    "            if Config.TRAIN_MODELS:\n",
    "                self.server.train_model(x__, r__, a__, self.id)"
   ]
  },
  {
   "cell_type": "code",
   "execution_count": null,
   "metadata": {},
   "outputs": [],
   "source": []
  }
 ],
 "metadata": {
  "kernelspec": {
   "display_name": "ga3c",
   "language": "python",
   "name": "ga3c"
  },
  "language_info": {
   "codemirror_mode": {
    "name": "ipython",
    "version": 3
   },
   "file_extension": ".py",
   "mimetype": "text/x-python",
   "name": "python",
   "nbconvert_exporter": "python",
   "pygments_lexer": "ipython3",
   "version": "3.7.3"
  }
 },
 "nbformat": 4,
 "nbformat_minor": 2
}
