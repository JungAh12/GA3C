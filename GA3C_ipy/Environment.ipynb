{
 "cells": [
  {
   "cell_type": "code",
   "execution_count": 4,
   "metadata": {},
   "outputs": [],
   "source": [
    "import sys\n",
    "if sys.version_info >= (3,0):\n",
    "    from queue import Queue\n",
    "else:\n",
    "    from Queue import Queue\n",
    "\n",
    "import numpy as np\n",
    "import scipy.misc as misc\n",
    "\n",
    "from Config import Config\n",
    "from GameManager import GameManager\n"
   ]
  },
  {
   "cell_type": "code",
   "execution_count": 6,
   "metadata": {},
   "outputs": [],
   "source": [
    "class Environment:\n",
    "    def __init__(self):\n",
    "        self.game = GameManager(Config.ATARI_GAME, display=Config.PLAY_MODE)\n",
    "        self.nb_frames = Config.STACKED_FRAMES\n",
    "        self.frame_q = Queue(maxsize=self.nb_frames)\n",
    "        self.previous_state = None\n",
    "        self.current_state = None\n",
    "        self.total_reward = 0\n",
    "        \n",
    "        self. reset()\n",
    "        \n",
    "    @staticmethod\n",
    "    def _rgb2gray(rgb):\n",
    "        return np.dot(rgb[..., :3], [0.299, 0.587, 0.114])\n",
    "    \n",
    "    @staticmethod\n",
    "    def _preprocess(image):\n",
    "        image = Environment._rgb2gray(image) # grayscale\n",
    "        print(image)\n",
    "        image = misc.imresize(image, [Config.IMAGE_WIDTH, Config.IMAGE_HEIGHT], 'bilinear')\n",
    "        print(image)\n",
    "        image = image.astype(np.float32)/128.0-1.0\n",
    "        print(image)\n",
    "        return image\n",
    "    \n",
    "    def _get_current_state(self):\n",
    "        if not self.frame_q.full():\n",
    "            return None\n",
    "        x_ = np.array(self.frame_q.queue)\n",
    "        x_ = np.transpose(x_, [1,2,0])\n",
    "        print(x_)\n",
    "        return x_\n",
    "    \n",
    "    def _update_frame_q(self, frame):\n",
    "        if self.frame_q.full():\n",
    "            self.frame_q.get()\n",
    "        image = Environment._preprocess(frame)\n",
    "        self.frame_q.put(image)\n",
    "        \n",
    "    def step(self, action):\n",
    "        observation, reward, done, _ = self.game.step(action)\n",
    "        \n",
    "        self.total_reward += reward\n",
    "        self._update_frame_q(observation)\n",
    "        \n",
    "        self.previous_state = self.current_state\n",
    "        self.current_state = self._get_current_state()\n",
    "        return reward, done"
   ]
  },
  {
   "cell_type": "code",
   "execution_count": null,
   "metadata": {},
   "outputs": [],
   "source": []
  }
 ],
 "metadata": {
  "kernelspec": {
   "display_name": "ga3c",
   "language": "python",
   "name": "ga3c"
  },
  "language_info": {
   "codemirror_mode": {
    "name": "ipython",
    "version": 3
   },
   "file_extension": ".py",
   "mimetype": "text/x-python",
   "name": "python",
   "nbconvert_exporter": "python",
   "pygments_lexer": "ipython3",
   "version": "3.7.3"
  }
 },
 "nbformat": 4,
 "nbformat_minor": 2
}
