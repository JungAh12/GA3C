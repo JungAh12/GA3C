{
 "cells": [
  {
   "cell_type": "code",
   "execution_count": 1,
   "metadata": {},
   "outputs": [],
   "source": [
    "import sys\n",
    "if sys.version_info >= (3,0):\n",
    "    from queue import Queue as queueQueue\n",
    "else:\n",
    "    from Queue import Queue as queueQueue"
   ]
  },
  {
   "cell_type": "code",
   "execution_count": 2,
   "metadata": {},
   "outputs": [],
   "source": [
    "from datetime import datetime\n",
    "from multiprocessing import Process, Queue, Value"
   ]
  },
  {
   "cell_type": "code",
   "execution_count": 3,
   "metadata": {},
   "outputs": [],
   "source": [
    "import numpy as np\n",
    "import time"
   ]
  },
  {
   "cell_type": "code",
   "execution_count": 4,
   "metadata": {},
   "outputs": [],
   "source": [
    "from Config import Config"
   ]
  },
  {
   "cell_type": "code",
   "execution_count": 5,
   "metadata": {},
   "outputs": [],
   "source": [
    "class ProcessStats(Process):\n",
    "    def __init__(self):\n",
    "        super(ProcessStats, self).__init__()\n",
    "        self.episode_log_q = Queue(maxsize=100)\n",
    "        self.episode_count = Value('i', 0)\n",
    "        self.training_count = Value('i', 0)\n",
    "        self.should_save_model = Value('i', 0)\n",
    "        self.trainer_count = Value('i', 0)\n",
    "        self.predictor_count = Value('i', 0)\n",
    "        self.agent_count = Value('i', 0)\n",
    "        self.total_frame_count = 0\n",
    "        \n",
    "    def FPS(self):\n",
    "        return np.ceil(self.total_frame_count / (time.time() - self.start_time))\n",
    "    \n",
    "    def TPS(self):\n",
    "        return np.ceil(self.training_count.value/(time.time() - self.start_time))\n",
    "    \n",
    "    def run(self):\n",
    "        with open(Config.RESULTS_FILENAME, 'a') as results_logger:\n",
    "            rolling_frame_count = 0\n",
    "            rolling_reward = 0\n",
    "            results_q = queueQueue(maxsize=Config.STAT_ROLLING_MEAN_WINDOW)\n",
    "            \n",
    "            self.start_time = time.time()\n",
    "            first_time = datetime.now()\n",
    "            while True:\n",
    "                episode_time, reward, length = self.episode_log_q.get()\n",
    "                results_loggert.write('%s, %d, %d\\n' % (episode_time.strftime(\"%Y-%m-%d %H:%M:%S\"),reward, length))\n",
    "                results_logger.flush()\n",
    "                \n",
    "                self.total_frame_count += length\n",
    "                self.episode_count.value += 1\n",
    "                \n",
    "                rolling_frame_count += length\n",
    "                rolling_reward += reward\n",
    "                \n",
    "                if results_q.full():\n",
    "                    old_episode_time, old_reward, old_length = results_q.get()\n",
    "                    rolling_frame_count -= old_length\n",
    "                    rolling_reward -= old_reward\n",
    "                    first_time = old_episode_time\n",
    "                    \n",
    "                results_q.put((episode_time, reward, length))\n",
    "                \n",
    "                if self.episode_count.value % Config.SAVE_FREQUENCY == 0:\n",
    "                    self.should_save_model.value = 1\n",
    "                if self.episode_count.value % Config.PRINT_STATS_FREQUENCY == 0:\n",
    "                    print(\n",
    "                        '[Time: %8d] '\n",
    "                        '[Episode: %8d Score: %10.4f] '\n",
    "                        '[RScore: %10.4f RPPS: %5d] '\n",
    "                        '[PPS: %5d TPS: %5d] '\n",
    "                        '[NT: %2d NP: %2d NA: %2d]'\n",
    "                        % (int(time.time()-self.start_time),\n",
    "                           self.episode_count.value, reward,\n",
    "                           rolling_reward / results_q.qsize(),\n",
    "                           rolling_frame_count / (datetime.now() - first_time).total_seconds(),\n",
    "                           self.FPS(), self.TPS(),\n",
    "                           self.trainer_count.value, self.predictor_count.value, self.agent_count.value))\n",
    "                    sys.stdout.flush()"
   ]
  },
  {
   "cell_type": "code",
   "execution_count": null,
   "metadata": {},
   "outputs": [],
   "source": []
  }
 ],
 "metadata": {
  "kernelspec": {
   "display_name": "ga3c",
   "language": "python",
   "name": "ga3c"
  },
  "language_info": {
   "codemirror_mode": {
    "name": "ipython",
    "version": 3
   },
   "file_extension": ".py",
   "mimetype": "text/x-python",
   "name": "python",
   "nbconvert_exporter": "python",
   "pygments_lexer": "ipython3",
   "version": "3.7.3"
  }
 },
 "nbformat": 4,
 "nbformat_minor": 2
}
