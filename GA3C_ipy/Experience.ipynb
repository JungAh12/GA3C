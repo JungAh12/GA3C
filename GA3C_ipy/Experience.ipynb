{
 "cells": [
  {
   "cell_type": "code",
   "execution_count": null,
   "metadata": {},
   "outputs": [],
   "source": [
    "class Experience:\n",
    "    def __init__(self, state, action, prediction, reward, done):\n",
    "        self.state = state\n",
    "        self.action = action\n",
    "        self.prediction = prediction\n",
    "        self.reward = reward\n",
    "        self.done = done"
   ]
  }
 ],
 "metadata": {
  "kernelspec": {
   "display_name": "ga3c",
   "language": "python",
   "name": "ga3c"
  },
  "language_info": {
   "codemirror_mode": {
    "name": "ipython",
    "version": 3
   },
   "file_extension": ".py",
   "mimetype": "text/x-python",
   "name": "python",
   "nbconvert_exporter": "python",
   "pygments_lexer": "ipython3",
   "version": "3.7.3"
  }
 },
 "nbformat": 4,
 "nbformat_minor": 2
}
