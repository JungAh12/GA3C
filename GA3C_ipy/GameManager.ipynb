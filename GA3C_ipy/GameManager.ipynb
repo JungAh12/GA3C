{
 "cells": [
  {
   "cell_type": "code",
   "execution_count": 1,
   "metadata": {},
   "outputs": [],
   "source": [
    "import gym"
   ]
  },
  {
   "cell_type": "code",
   "execution_count": 2,
   "metadata": {},
   "outputs": [],
   "source": [
    "class GameManager:\n",
    "    def __init__(self, game_name, display):\n",
    "        self.game_name = game_name\n",
    "        self.display = display\n",
    "        \n",
    "        self.env = gym.make(game_name)\n",
    "        self.reset()\n",
    "    \n",
    "    def reset(self):\n",
    "        observation = self.env.reset()\n",
    "        return observation\n",
    "    \n",
    "    def step(self, action):\n",
    "        self._update_display()\n",
    "        observation, reward, done, info = self.env.step(action)\n",
    "        return observation, reward, done, info\n",
    "    \n",
    "    def _update_display():\n",
    "        if self.display:\n",
    "            self.env.render()"
   ]
  },
  {
   "cell_type": "code",
   "execution_count": null,
   "metadata": {},
   "outputs": [],
   "source": []
  }
 ],
 "metadata": {
  "kernelspec": {
   "display_name": "ga3c",
   "language": "python",
   "name": "ga3c"
  },
  "language_info": {
   "codemirror_mode": {
    "name": "ipython",
    "version": 3
   },
   "file_extension": ".py",
   "mimetype": "text/x-python",
   "name": "python",
   "nbconvert_exporter": "python",
   "pygments_lexer": "ipython3",
   "version": "3.7.3"
  }
 },
 "nbformat": 4,
 "nbformat_minor": 2
}
