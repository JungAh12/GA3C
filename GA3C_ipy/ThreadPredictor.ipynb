{
 "cells": [
  {
   "cell_type": "code",
   "execution_count": null,
   "metadata": {},
   "outputs": [],
   "source": [
    "from threading import Thread\n",
    "import numpy as np\n",
    "from Config import Config\n",
    "\n",
    "class ThreadPredictor(Thread):\n",
    "    def __init__(self, server, id):\n",
    "        super(ThreadPredictor, self).__init__()\n",
    "        self.setDaemon(True)\n",
    "        \n",
    "        self.id = id\n",
    "        self.server = server\n",
    "        self.exit_flag = False\n",
    "        \n",
    "    def run(self):\n",
    "        ids = np.zeros(Config.PREDICTION_BATCH_SIZE, dtype=np.uint16)\n",
    "        states = np.zeros(\n",
    "            (Config.PREDICTION_BATCH_SIZE, Config.IMAGE_HEIGHT, Config.IMAGE_WIDTH, Config.STACKED_FRAMES),\n",
    "            dtype=np.float32)\n",
    "\n",
    "        while not self.exit_flag:\n",
    "            ids[0], states[0] = self.server.prediction_q.get()\n",
    "\n",
    "            size = 1\n",
    "            while size < Config.PREDICTION_BATCH_SIZE and not self.server.prediction_q.empty():\n",
    "                ids[size], states[size] = self.server.prediction_q.get()\n",
    "                size += 1\n",
    "\n",
    "            batch = states[:size]\n",
    "            p, v = self.server.model.predict_p_and_v(batch)\n",
    "\n",
    "            for i in range(size):\n",
    "                if ids[i] < len(self.server.agents):\n",
    "                    self.server.agents[ids[i]].wait_q.put((p[i], v[i]))\n"
   ]
  }
 ],
 "metadata": {
  "kernelspec": {
   "display_name": "ga3c",
   "language": "python",
   "name": "ga3c"
  },
  "language_info": {
   "codemirror_mode": {
    "name": "ipython",
    "version": 3
   },
   "file_extension": ".py",
   "mimetype": "text/x-python",
   "name": "python",
   "nbconvert_exporter": "python",
   "pygments_lexer": "ipython3",
   "version": "3.7.3"
  }
 },
 "nbformat": 4,
 "nbformat_minor": 2
}
